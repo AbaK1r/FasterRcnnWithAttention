{
 "cells": [
  {
   "cell_type": "code",
   "execution_count": 1,
   "id": "d0e16356",
   "metadata": {
    "collapsed": true
   },
   "outputs": [
    {
     "name": "stdout",
     "output_type": "stream",
     "text": [
      "Generate txt in ImageSets.\n",
      "train and val size 573\n",
      "train size 515\n",
      "Generate txt in ImageSets done.\n",
      "Generate train.txt and val.txt for train.\n",
      "Generate train.txt and val.txt for train done.\n"
     ]
    }
   ],
   "source": [
    "from train.voc_annotation import voc_annotation\n",
    "voc_annotation()"
   ]
  },
  {
   "cell_type": "code",
   "execution_count": 2,
   "id": "f20b0152",
   "metadata": {},
   "outputs": [
    {
     "name": "stdout",
     "output_type": "stream",
     "text": [
      "initialize network with normal type\n",
      "Load weights model_data/ep022-loss1.245-val_loss0.901.pth.\n",
      "Start Train\n"
     ]
    },
    {
     "data": {
      "application/vnd.jupyter.widget-view+json": {
       "model_id": "7114cf79fcd74c5fb81735d14a546c52",
       "version_major": 2,
       "version_minor": 0
      },
      "text/plain": [
       "Epoch 1/10:   0%|          | 0/103 [00:00<?, ?it/s<class 'dict'>]"
      ]
     },
     "metadata": {},
     "output_type": "display_data"
    },
    {
     "name": "stdout",
     "output_type": "stream",
     "text": [
      "Finish Train\n",
      "Start Validation\n"
     ]
    },
    {
     "data": {
      "application/vnd.jupyter.widget-view+json": {
       "model_id": "61f65cb7b8614d09a4976bb976a1d0f7",
       "version_major": 2,
       "version_minor": 0
      },
      "text/plain": [
       "Epoch 1/10:   0%|          | 0/11 [00:00<?, ?it/s<class 'dict'>]"
      ]
     },
     "metadata": {},
     "output_type": "display_data"
    },
    {
     "name": "stdout",
     "output_type": "stream",
     "text": [
      "Finish Validation\n",
      "Epoch:1/10\n",
      "Total Loss: 1.216 || Val Loss: 1.043 \n",
      "Start Train\n"
     ]
    },
    {
     "data": {
      "application/vnd.jupyter.widget-view+json": {
       "model_id": "5b2cad66a2474f1ea7392b4440c8f76c",
       "version_major": 2,
       "version_minor": 0
      },
      "text/plain": [
       "Epoch 2/10:   0%|          | 0/103 [00:00<?, ?it/s<class 'dict'>]"
      ]
     },
     "metadata": {},
     "output_type": "display_data"
    },
    {
     "name": "stdout",
     "output_type": "stream",
     "text": [
      "Finish Train\n",
      "Start Validation\n"
     ]
    },
    {
     "data": {
      "application/vnd.jupyter.widget-view+json": {
       "model_id": "fa3a71351c3d4a5ba3b39e1444c30a66",
       "version_major": 2,
       "version_minor": 0
      },
      "text/plain": [
       "Epoch 2/10:   0%|          | 0/11 [00:00<?, ?it/s<class 'dict'>]"
      ]
     },
     "metadata": {},
     "output_type": "display_data"
    },
    {
     "name": "stdout",
     "output_type": "stream",
     "text": [
      "Finish Validation\n",
      "Epoch:2/10\n",
      "Total Loss: 1.230 || Val Loss: 0.990 \n",
      "Start Train\n"
     ]
    },
    {
     "data": {
      "application/vnd.jupyter.widget-view+json": {
       "model_id": "4ccd83b44983453ea77b945e7deb969e",
       "version_major": 2,
       "version_minor": 0
      },
      "text/plain": [
       "Epoch 3/10:   0%|          | 0/103 [00:00<?, ?it/s<class 'dict'>]"
      ]
     },
     "metadata": {},
     "output_type": "display_data"
    },
    {
     "name": "stdout",
     "output_type": "stream",
     "text": [
      "Finish Train\n",
      "Start Validation\n"
     ]
    },
    {
     "data": {
      "application/vnd.jupyter.widget-view+json": {
       "model_id": "d1b1d8b8174947aaad6e41fdfa5e00a3",
       "version_major": 2,
       "version_minor": 0
      },
      "text/plain": [
       "Epoch 3/10:   0%|          | 0/11 [00:00<?, ?it/s<class 'dict'>]"
      ]
     },
     "metadata": {},
     "output_type": "display_data"
    },
    {
     "name": "stdout",
     "output_type": "stream",
     "text": [
      "Finish Validation\n",
      "Epoch:3/10\n",
      "Total Loss: 1.258 || Val Loss: 0.955 \n",
      "Start Train\n"
     ]
    },
    {
     "data": {
      "application/vnd.jupyter.widget-view+json": {
       "model_id": "98642cec2d7e4426b996c0adf76eecc4",
       "version_major": 2,
       "version_minor": 0
      },
      "text/plain": [
       "Epoch 4/10:   0%|          | 0/103 [00:00<?, ?it/s<class 'dict'>]"
      ]
     },
     "metadata": {},
     "output_type": "display_data"
    },
    {
     "name": "stdout",
     "output_type": "stream",
     "text": [
      "Finish Train\n",
      "Start Validation\n"
     ]
    },
    {
     "data": {
      "application/vnd.jupyter.widget-view+json": {
       "model_id": "941bd8ceba71415d82e2493d89a4f9e7",
       "version_major": 2,
       "version_minor": 0
      },
      "text/plain": [
       "Epoch 4/10:   0%|          | 0/11 [00:00<?, ?it/s<class 'dict'>]"
      ]
     },
     "metadata": {},
     "output_type": "display_data"
    },
    {
     "name": "stdout",
     "output_type": "stream",
     "text": [
      "Finish Validation\n",
      "Epoch:4/10\n",
      "Total Loss: 1.241 || Val Loss: 1.005 \n",
      "Start Train\n"
     ]
    },
    {
     "data": {
      "application/vnd.jupyter.widget-view+json": {
       "model_id": "2dc2cc2b805d44488d407e1270063d7b",
       "version_major": 2,
       "version_minor": 0
      },
      "text/plain": [
       "Epoch 5/10:   0%|          | 0/103 [00:00<?, ?it/s<class 'dict'>]"
      ]
     },
     "metadata": {},
     "output_type": "display_data"
    },
    {
     "name": "stdout",
     "output_type": "stream",
     "text": [
      "Finish Train\n",
      "Start Validation\n"
     ]
    },
    {
     "data": {
      "application/vnd.jupyter.widget-view+json": {
       "model_id": "0c9da912cb9d42fbb13db68ec4c9ea24",
       "version_major": 2,
       "version_minor": 0
      },
      "text/plain": [
       "Epoch 5/10:   0%|          | 0/11 [00:00<?, ?it/s<class 'dict'>]"
      ]
     },
     "metadata": {},
     "output_type": "display_data"
    },
    {
     "name": "stdout",
     "output_type": "stream",
     "text": [
      "Finish Validation\n",
      "Epoch:5/10\n",
      "Total Loss: 1.243 || Val Loss: 0.995 \n",
      "Start Train\n"
     ]
    },
    {
     "data": {
      "application/vnd.jupyter.widget-view+json": {
       "model_id": "08591b0d1f1f4382b489e2fc47ee7f49",
       "version_major": 2,
       "version_minor": 0
      },
      "text/plain": [
       "Epoch 6/10:   0%|          | 0/103 [00:00<?, ?it/s<class 'dict'>]"
      ]
     },
     "metadata": {},
     "output_type": "display_data"
    },
    {
     "name": "stdout",
     "output_type": "stream",
     "text": [
      "Finish Train\n",
      "Start Validation\n"
     ]
    },
    {
     "data": {
      "application/vnd.jupyter.widget-view+json": {
       "model_id": "402a048e67cb48f7a5d43420d93d8b8b",
       "version_major": 2,
       "version_minor": 0
      },
      "text/plain": [
       "Epoch 6/10:   0%|          | 0/11 [00:00<?, ?it/s<class 'dict'>]"
      ]
     },
     "metadata": {},
     "output_type": "display_data"
    },
    {
     "name": "stdout",
     "output_type": "stream",
     "text": [
      "Finish Validation\n",
      "Epoch:6/10\n",
      "Total Loss: 1.269 || Val Loss: 0.987 \n",
      "Start Train\n"
     ]
    },
    {
     "data": {
      "application/vnd.jupyter.widget-view+json": {
       "model_id": "9c4566c6cf594153a07a2c43dacc1dc1",
       "version_major": 2,
       "version_minor": 0
      },
      "text/plain": [
       "Epoch 7/10:   0%|          | 0/103 [00:00<?, ?it/s<class 'dict'>]"
      ]
     },
     "metadata": {},
     "output_type": "display_data"
    },
    {
     "name": "stdout",
     "output_type": "stream",
     "text": [
      "Finish Train\n",
      "Start Validation\n"
     ]
    },
    {
     "data": {
      "application/vnd.jupyter.widget-view+json": {
       "model_id": "c4241395062a4276990b2c21d7ffd54e",
       "version_major": 2,
       "version_minor": 0
      },
      "text/plain": [
       "Epoch 7/10:   0%|          | 0/11 [00:00<?, ?it/s<class 'dict'>]"
      ]
     },
     "metadata": {},
     "output_type": "display_data"
    },
    {
     "name": "stdout",
     "output_type": "stream",
     "text": [
      "Finish Validation\n",
      "Epoch:7/10\n",
      "Total Loss: 1.220 || Val Loss: 1.020 \n",
      "Start Train\n"
     ]
    },
    {
     "data": {
      "application/vnd.jupyter.widget-view+json": {
       "model_id": "af96e96abab54749a7f1dfbe6b422b7f",
       "version_major": 2,
       "version_minor": 0
      },
      "text/plain": [
       "Epoch 8/10:   0%|          | 0/103 [00:00<?, ?it/s<class 'dict'>]"
      ]
     },
     "metadata": {},
     "output_type": "display_data"
    },
    {
     "name": "stdout",
     "output_type": "stream",
     "text": [
      "Finish Train\n",
      "Start Validation\n"
     ]
    },
    {
     "data": {
      "application/vnd.jupyter.widget-view+json": {
       "model_id": "a5acc6a3d15b4208909b48dc21ca5f2c",
       "version_major": 2,
       "version_minor": 0
      },
      "text/plain": [
       "Epoch 8/10:   0%|          | 0/11 [00:00<?, ?it/s<class 'dict'>]"
      ]
     },
     "metadata": {},
     "output_type": "display_data"
    },
    {
     "name": "stdout",
     "output_type": "stream",
     "text": [
      "Finish Validation\n",
      "Epoch:8/10\n",
      "Total Loss: 1.262 || Val Loss: 0.992 \n",
      "Start Train\n"
     ]
    },
    {
     "data": {
      "application/vnd.jupyter.widget-view+json": {
       "model_id": "84326e921d154ffda5acb1a5f2d741b2",
       "version_major": 2,
       "version_minor": 0
      },
      "text/plain": [
       "Epoch 9/10:   0%|          | 0/103 [00:00<?, ?it/s<class 'dict'>]"
      ]
     },
     "metadata": {},
     "output_type": "display_data"
    },
    {
     "name": "stdout",
     "output_type": "stream",
     "text": [
      "Finish Train\n",
      "Start Validation\n"
     ]
    },
    {
     "data": {
      "application/vnd.jupyter.widget-view+json": {
       "model_id": "49ad39e8dcd9483b876527d725c8caa2",
       "version_major": 2,
       "version_minor": 0
      },
      "text/plain": [
       "Epoch 9/10:   0%|          | 0/11 [00:00<?, ?it/s<class 'dict'>]"
      ]
     },
     "metadata": {},
     "output_type": "display_data"
    },
    {
     "name": "stdout",
     "output_type": "stream",
     "text": [
      "Finish Validation\n",
      "Epoch:9/10\n",
      "Total Loss: 1.253 || Val Loss: 0.958 \n",
      "Start Train\n"
     ]
    },
    {
     "data": {
      "application/vnd.jupyter.widget-view+json": {
       "model_id": "f3723333730a4bf3948a7caf78be429d",
       "version_major": 2,
       "version_minor": 0
      },
      "text/plain": [
       "Epoch 10/10:   0%|          | 0/103 [00:00<?, ?it/s<class 'dict'>]"
      ]
     },
     "metadata": {},
     "output_type": "display_data"
    },
    {
     "name": "stdout",
     "output_type": "stream",
     "text": [
      "Finish Train\n",
      "Start Validation\n"
     ]
    },
    {
     "data": {
      "application/vnd.jupyter.widget-view+json": {
       "model_id": "803a0b1d866d47caa899dbc2de03d4c5",
       "version_major": 2,
       "version_minor": 0
      },
      "text/plain": [
       "Epoch 10/10:   0%|          | 0/11 [00:00<?, ?it/s<class 'dict'>]"
      ]
     },
     "metadata": {},
     "output_type": "display_data"
    },
    {
     "name": "stdout",
     "output_type": "stream",
     "text": [
      "Finish Validation\n",
      "Epoch:10/10\n",
      "Total Loss: 1.232 || Val Loss: 0.979 \n",
      "Start Train\n"
     ]
    },
    {
     "data": {
      "application/vnd.jupyter.widget-view+json": {
       "model_id": "4a37e9b6cd0344c79ee67c97749a5b6d",
       "version_major": 2,
       "version_minor": 0
      },
      "text/plain": [
       "Epoch 11/30:   0%|          | 0/128 [00:00<?, ?it/s<class 'dict'>]"
      ]
     },
     "metadata": {},
     "output_type": "display_data"
    },
    {
     "name": "stdout",
     "output_type": "stream",
     "text": [
      "Finish Train\n",
      "Start Validation\n"
     ]
    },
    {
     "data": {
      "application/vnd.jupyter.widget-view+json": {
       "model_id": "0754194deccb473a871fd81cc01ac764",
       "version_major": 2,
       "version_minor": 0
      },
      "text/plain": [
       "Epoch 11/30:   0%|          | 0/14 [00:00<?, ?it/s<class 'dict'>]"
      ]
     },
     "metadata": {},
     "output_type": "display_data"
    },
    {
     "name": "stdout",
     "output_type": "stream",
     "text": [
      "Finish Validation\n",
      "Epoch:11/30\n",
      "Total Loss: 1.196 || Val Loss: 1.001 \n",
      "Start Train\n"
     ]
    },
    {
     "data": {
      "application/vnd.jupyter.widget-view+json": {
       "model_id": "963856dc64a64a06bd3accfac962692f",
       "version_major": 2,
       "version_minor": 0
      },
      "text/plain": [
       "Epoch 12/30:   0%|          | 0/128 [00:00<?, ?it/s<class 'dict'>]"
      ]
     },
     "metadata": {},
     "output_type": "display_data"
    },
    {
     "name": "stdout",
     "output_type": "stream",
     "text": [
      "Finish Train\n",
      "Start Validation\n"
     ]
    },
    {
     "data": {
      "application/vnd.jupyter.widget-view+json": {
       "model_id": "7ae30568b27441fab69c5058bbb41f0f",
       "version_major": 2,
       "version_minor": 0
      },
      "text/plain": [
       "Epoch 12/30:   0%|          | 0/14 [00:00<?, ?it/s<class 'dict'>]"
      ]
     },
     "metadata": {},
     "output_type": "display_data"
    },
    {
     "name": "stdout",
     "output_type": "stream",
     "text": [
      "Finish Validation\n",
      "Epoch:12/30\n",
      "Total Loss: 1.231 || Val Loss: 0.989 \n",
      "Start Train\n"
     ]
    },
    {
     "data": {
      "application/vnd.jupyter.widget-view+json": {
       "model_id": "6ac760e338614db793484956461458a0",
       "version_major": 2,
       "version_minor": 0
      },
      "text/plain": [
       "Epoch 13/30:   0%|          | 0/128 [00:00<?, ?it/s<class 'dict'>]"
      ]
     },
     "metadata": {},
     "output_type": "display_data"
    },
    {
     "name": "stdout",
     "output_type": "stream",
     "text": [
      "Finish Train\n",
      "Start Validation\n"
     ]
    },
    {
     "data": {
      "application/vnd.jupyter.widget-view+json": {
       "model_id": "c443c6a430644357b6e1dac8561770db",
       "version_major": 2,
       "version_minor": 0
      },
      "text/plain": [
       "Epoch 13/30:   0%|          | 0/14 [00:00<?, ?it/s<class 'dict'>]"
      ]
     },
     "metadata": {},
     "output_type": "display_data"
    },
    {
     "name": "stdout",
     "output_type": "stream",
     "text": [
      "Finish Validation\n",
      "Epoch:13/30\n",
      "Total Loss: 1.218 || Val Loss: 0.965 \n",
      "Start Train\n"
     ]
    },
    {
     "data": {
      "application/vnd.jupyter.widget-view+json": {
       "model_id": "b4f0da3adb4c4d48a3d2e2ce858bc696",
       "version_major": 2,
       "version_minor": 0
      },
      "text/plain": [
       "Epoch 14/30:   0%|          | 0/128 [00:00<?, ?it/s<class 'dict'>]"
      ]
     },
     "metadata": {},
     "output_type": "display_data"
    },
    {
     "name": "stdout",
     "output_type": "stream",
     "text": [
      "Finish Train\n",
      "Start Validation\n"
     ]
    },
    {
     "data": {
      "application/vnd.jupyter.widget-view+json": {
       "model_id": "bf2b8c1f75f2422691dab8b21549c876",
       "version_major": 2,
       "version_minor": 0
      },
      "text/plain": [
       "Epoch 14/30:   0%|          | 0/14 [00:00<?, ?it/s<class 'dict'>]"
      ]
     },
     "metadata": {},
     "output_type": "display_data"
    },
    {
     "name": "stdout",
     "output_type": "stream",
     "text": [
      "Finish Validation\n",
      "Epoch:14/30\n",
      "Total Loss: 1.187 || Val Loss: 0.975 \n",
      "Start Train\n"
     ]
    },
    {
     "data": {
      "application/vnd.jupyter.widget-view+json": {
       "model_id": "93bde3f2028d44c7b8ec84107d8d71c4",
       "version_major": 2,
       "version_minor": 0
      },
      "text/plain": [
       "Epoch 15/30:   0%|          | 0/128 [00:00<?, ?it/s<class 'dict'>]"
      ]
     },
     "metadata": {},
     "output_type": "display_data"
    },
    {
     "name": "stdout",
     "output_type": "stream",
     "text": [
      "Finish Train\n",
      "Start Validation\n"
     ]
    },
    {
     "data": {
      "application/vnd.jupyter.widget-view+json": {
       "model_id": "24db30dd535f4b359debbcbf84f24b12",
       "version_major": 2,
       "version_minor": 0
      },
      "text/plain": [
       "Epoch 15/30:   0%|          | 0/14 [00:00<?, ?it/s<class 'dict'>]"
      ]
     },
     "metadata": {},
     "output_type": "display_data"
    },
    {
     "name": "stdout",
     "output_type": "stream",
     "text": [
      "Finish Validation\n",
      "Epoch:15/30\n",
      "Total Loss: 1.180 || Val Loss: 0.961 \n",
      "Start Train\n"
     ]
    },
    {
     "data": {
      "application/vnd.jupyter.widget-view+json": {
       "model_id": "4882cf2d61504580996652b2bfdae278",
       "version_major": 2,
       "version_minor": 0
      },
      "text/plain": [
       "Epoch 16/30:   0%|          | 0/128 [00:00<?, ?it/s<class 'dict'>]"
      ]
     },
     "metadata": {},
     "output_type": "display_data"
    },
    {
     "name": "stdout",
     "output_type": "stream",
     "text": [
      "Finish Train\n",
      "Start Validation\n"
     ]
    },
    {
     "data": {
      "application/vnd.jupyter.widget-view+json": {
       "model_id": "d6b949a90316423db69e8e3d1f44351d",
       "version_major": 2,
       "version_minor": 0
      },
      "text/plain": [
       "Epoch 16/30:   0%|          | 0/14 [00:00<?, ?it/s<class 'dict'>]"
      ]
     },
     "metadata": {},
     "output_type": "display_data"
    },
    {
     "name": "stdout",
     "output_type": "stream",
     "text": [
      "Finish Validation\n",
      "Epoch:16/30\n",
      "Total Loss: 1.210 || Val Loss: 0.966 \n",
      "Start Train\n"
     ]
    },
    {
     "data": {
      "application/vnd.jupyter.widget-view+json": {
       "model_id": "88cad9b1f3c941baabffe9d85ff1dff9",
       "version_major": 2,
       "version_minor": 0
      },
      "text/plain": [
       "Epoch 17/30:   0%|          | 0/128 [00:00<?, ?it/s<class 'dict'>]"
      ]
     },
     "metadata": {},
     "output_type": "display_data"
    },
    {
     "name": "stdout",
     "output_type": "stream",
     "text": [
      "Finish Train\n",
      "Start Validation\n"
     ]
    },
    {
     "data": {
      "application/vnd.jupyter.widget-view+json": {
       "model_id": "3c1dc16cd47f4c5db884266c12eb00e9",
       "version_major": 2,
       "version_minor": 0
      },
      "text/plain": [
       "Epoch 17/30:   0%|          | 0/14 [00:00<?, ?it/s<class 'dict'>]"
      ]
     },
     "metadata": {},
     "output_type": "display_data"
    },
    {
     "name": "stdout",
     "output_type": "stream",
     "text": [
      "Finish Validation\n",
      "Epoch:17/30\n",
      "Total Loss: 1.219 || Val Loss: 0.945 \n",
      "Start Train\n"
     ]
    },
    {
     "data": {
      "application/vnd.jupyter.widget-view+json": {
       "model_id": "d15f4374da0443bd8d277958c45744b1",
       "version_major": 2,
       "version_minor": 0
      },
      "text/plain": [
       "Epoch 18/30:   0%|          | 0/128 [00:00<?, ?it/s<class 'dict'>]"
      ]
     },
     "metadata": {},
     "output_type": "display_data"
    },
    {
     "name": "stdout",
     "output_type": "stream",
     "text": [
      "Finish Train\n",
      "Start Validation\n"
     ]
    },
    {
     "data": {
      "application/vnd.jupyter.widget-view+json": {
       "model_id": "e685364f9be74e1dbdcb690481e4cf4a",
       "version_major": 2,
       "version_minor": 0
      },
      "text/plain": [
       "Epoch 18/30:   0%|          | 0/14 [00:00<?, ?it/s<class 'dict'>]"
      ]
     },
     "metadata": {},
     "output_type": "display_data"
    },
    {
     "name": "stdout",
     "output_type": "stream",
     "text": [
      "Finish Validation\n",
      "Epoch:18/30\n",
      "Total Loss: 1.202 || Val Loss: 0.945 \n",
      "Start Train\n"
     ]
    },
    {
     "data": {
      "application/vnd.jupyter.widget-view+json": {
       "model_id": "2abb89ce7cba43fabe54563638a37620",
       "version_major": 2,
       "version_minor": 0
      },
      "text/plain": [
       "Epoch 19/30:   0%|          | 0/128 [00:00<?, ?it/s<class 'dict'>]"
      ]
     },
     "metadata": {},
     "output_type": "display_data"
    },
    {
     "name": "stdout",
     "output_type": "stream",
     "text": [
      "Finish Train\n",
      "Start Validation\n"
     ]
    },
    {
     "data": {
      "application/vnd.jupyter.widget-view+json": {
       "model_id": "e4512fd9910f4cce9cfe7358d061e799",
       "version_major": 2,
       "version_minor": 0
      },
      "text/plain": [
       "Epoch 19/30:   0%|          | 0/14 [00:00<?, ?it/s<class 'dict'>]"
      ]
     },
     "metadata": {},
     "output_type": "display_data"
    },
    {
     "name": "stdout",
     "output_type": "stream",
     "text": [
      "Finish Validation\n",
      "Epoch:19/30\n",
      "Total Loss: 1.239 || Val Loss: 0.971 \n",
      "Start Train\n"
     ]
    },
    {
     "data": {
      "application/vnd.jupyter.widget-view+json": {
       "model_id": "cf7e661020594e449093252c6236990a",
       "version_major": 2,
       "version_minor": 0
      },
      "text/plain": [
       "Epoch 20/30:   0%|          | 0/128 [00:00<?, ?it/s<class 'dict'>]"
      ]
     },
     "metadata": {},
     "output_type": "display_data"
    },
    {
     "name": "stdout",
     "output_type": "stream",
     "text": [
      "Finish Train\n",
      "Start Validation\n"
     ]
    },
    {
     "data": {
      "application/vnd.jupyter.widget-view+json": {
       "model_id": "405b9e5a4e7744a6863cdff6c1098ed6",
       "version_major": 2,
       "version_minor": 0
      },
      "text/plain": [
       "Epoch 20/30:   0%|          | 0/14 [00:00<?, ?it/s<class 'dict'>]"
      ]
     },
     "metadata": {},
     "output_type": "display_data"
    },
    {
     "name": "stdout",
     "output_type": "stream",
     "text": [
      "Finish Validation\n",
      "Epoch:20/30\n",
      "Total Loss: 1.193 || Val Loss: 0.976 \n",
      "Start Train\n"
     ]
    },
    {
     "data": {
      "application/vnd.jupyter.widget-view+json": {
       "model_id": "85e5fea883974961a4e586ac447bc099",
       "version_major": 2,
       "version_minor": 0
      },
      "text/plain": [
       "Epoch 21/30:   0%|          | 0/128 [00:00<?, ?it/s<class 'dict'>]"
      ]
     },
     "metadata": {},
     "output_type": "display_data"
    },
    {
     "name": "stdout",
     "output_type": "stream",
     "text": [
      "Finish Train\n",
      "Start Validation\n"
     ]
    },
    {
     "data": {
      "application/vnd.jupyter.widget-view+json": {
       "model_id": "9e9bc60407fe4b93ba689d6264363b14",
       "version_major": 2,
       "version_minor": 0
      },
      "text/plain": [
       "Epoch 21/30:   0%|          | 0/14 [00:00<?, ?it/s<class 'dict'>]"
      ]
     },
     "metadata": {},
     "output_type": "display_data"
    },
    {
     "name": "stdout",
     "output_type": "stream",
     "text": [
      "Finish Validation\n",
      "Epoch:21/30\n",
      "Total Loss: 1.228 || Val Loss: 0.944 \n",
      "Start Train\n"
     ]
    },
    {
     "data": {
      "application/vnd.jupyter.widget-view+json": {
       "model_id": "82146ab962cd4a579f039e9a1cd8133a",
       "version_major": 2,
       "version_minor": 0
      },
      "text/plain": [
       "Epoch 22/30:   0%|          | 0/128 [00:00<?, ?it/s<class 'dict'>]"
      ]
     },
     "metadata": {},
     "output_type": "display_data"
    },
    {
     "name": "stdout",
     "output_type": "stream",
     "text": [
      "Finish Train\n",
      "Start Validation\n"
     ]
    },
    {
     "data": {
      "application/vnd.jupyter.widget-view+json": {
       "model_id": "04f6f7b07fe34306872650f9844c34e0",
       "version_major": 2,
       "version_minor": 0
      },
      "text/plain": [
       "Epoch 22/30:   0%|          | 0/14 [00:00<?, ?it/s<class 'dict'>]"
      ]
     },
     "metadata": {},
     "output_type": "display_data"
    },
    {
     "name": "stdout",
     "output_type": "stream",
     "text": [
      "Finish Validation\n",
      "Epoch:22/30\n",
      "Total Loss: 1.226 || Val Loss: 0.973 \n",
      "Start Train\n"
     ]
    },
    {
     "data": {
      "application/vnd.jupyter.widget-view+json": {
       "model_id": "2873325b3bb24080af16fb75376080ef",
       "version_major": 2,
       "version_minor": 0
      },
      "text/plain": [
       "Epoch 23/30:   0%|          | 0/128 [00:00<?, ?it/s<class 'dict'>]"
      ]
     },
     "metadata": {},
     "output_type": "display_data"
    },
    {
     "ename": "KeyboardInterrupt",
     "evalue": "",
     "output_type": "error",
     "traceback": [
      "\u001b[1;31m---------------------------------------------------------------------------\u001b[0m",
      "\u001b[1;31mKeyboardInterrupt\u001b[0m                         Traceback (most recent call last)",
      "Input \u001b[1;32mIn [2]\u001b[0m, in \u001b[0;36m<cell line: 2>\u001b[1;34m()\u001b[0m\n\u001b[0;32m      1\u001b[0m \u001b[38;5;28;01mfrom\u001b[39;00m \u001b[38;5;21;01mtraining\u001b[39;00m \u001b[38;5;28;01mimport\u001b[39;00m training\n\u001b[1;32m----> 2\u001b[0m \u001b[43mtraining\u001b[49m\u001b[43m(\u001b[49m\u001b[43mmodel_path\u001b[49m\u001b[43m \u001b[49m\u001b[38;5;241;43m=\u001b[39;49m\u001b[43m \u001b[49m\u001b[38;5;124;43m'\u001b[39;49m\u001b[38;5;124;43mmodel_data/ep022-loss1.245-val_loss0.901.pth\u001b[39;49m\u001b[38;5;124;43m'\u001b[39;49m\u001b[43m,\u001b[49m\n\u001b[0;32m      3\u001b[0m \u001b[43m         \u001b[49m\u001b[43mpretrained\u001b[49m\u001b[38;5;241;43m=\u001b[39;49m\u001b[38;5;28;43;01mFalse\u001b[39;49;00m\u001b[43m,\u001b[49m\n\u001b[0;32m      4\u001b[0m \u001b[43m         \u001b[49m\u001b[43mInit_Epoch\u001b[49m\u001b[38;5;241;43m=\u001b[39;49m\u001b[38;5;241;43m0\u001b[39;49m\u001b[43m,\u001b[49m\n\u001b[0;32m      5\u001b[0m \u001b[43m         \u001b[49m\u001b[43mFreeze_Epoch\u001b[49m\u001b[38;5;241;43m=\u001b[39;49m\u001b[38;5;241;43m10\u001b[39;49m\u001b[43m,\u001b[49m\n\u001b[0;32m      6\u001b[0m \u001b[43m         \u001b[49m\u001b[43mFreeze_batch_size\u001b[49m\u001b[38;5;241;43m=\u001b[39;49m\u001b[38;5;241;43m5\u001b[39;49m\u001b[43m,\u001b[49m\n\u001b[0;32m      7\u001b[0m \u001b[43m         \u001b[49m\u001b[43mFreeze_lr\u001b[49m\u001b[38;5;241;43m=\u001b[39;49m\u001b[38;5;241;43m1e-5\u001b[39;49m\u001b[43m,\u001b[49m\n\u001b[0;32m      8\u001b[0m \u001b[43m         \u001b[49m\u001b[43mUnFreeze_Epoch\u001b[49m\u001b[38;5;241;43m=\u001b[39;49m\u001b[38;5;241;43m30\u001b[39;49m\u001b[43m,\u001b[49m\n\u001b[0;32m      9\u001b[0m \u001b[43m         \u001b[49m\u001b[43mUnfreeze_batch_size\u001b[49m\u001b[38;5;241;43m=\u001b[39;49m\u001b[38;5;241;43m4\u001b[39;49m\u001b[43m,\u001b[49m\n\u001b[0;32m     10\u001b[0m \u001b[43m         \u001b[49m\u001b[43mUnfreeze_lr\u001b[49m\u001b[38;5;241;43m=\u001b[39;49m\u001b[38;5;241;43m1e-6\u001b[39;49m\u001b[43m)\u001b[49m\n",
      "File \u001b[1;32mD:\\PycharmProjects\\fasterRCNN\\training.py:238\u001b[0m, in \u001b[0;36mtraining\u001b[1;34m(model_path, pretrained, Init_Epoch, Freeze_Epoch, Freeze_batch_size, Freeze_lr, UnFreeze_Epoch, Unfreeze_batch_size, Unfreeze_lr)\u001b[0m\n\u001b[0;32m    235\u001b[0m train_util \u001b[38;5;241m=\u001b[39m FasterRCNNTrainer(model, optimizer)\n\u001b[0;32m    237\u001b[0m \u001b[38;5;28;01mfor\u001b[39;00m epoch \u001b[38;5;129;01min\u001b[39;00m \u001b[38;5;28mrange\u001b[39m(start_epoch, end_epoch):\n\u001b[1;32m--> 238\u001b[0m     \u001b[43mfit_one_epoch\u001b[49m\u001b[43m(\u001b[49m\u001b[43mmodel\u001b[49m\u001b[43m,\u001b[49m\u001b[43m \u001b[49m\u001b[43mtrain_util\u001b[49m\u001b[43m,\u001b[49m\u001b[43m \u001b[49m\u001b[43mloss_history\u001b[49m\u001b[43m,\u001b[49m\u001b[43m \u001b[49m\u001b[43moptimizer\u001b[49m\u001b[43m,\u001b[49m\u001b[43m \u001b[49m\u001b[43mepoch\u001b[49m\u001b[43m,\u001b[49m\u001b[43m \u001b[49m\u001b[43mepoch_step\u001b[49m\u001b[43m,\u001b[49m\u001b[43m \u001b[49m\u001b[43mepoch_step_val\u001b[49m\u001b[43m,\u001b[49m\u001b[43m \u001b[49m\u001b[43mgen\u001b[49m\u001b[43m,\u001b[49m\u001b[43m \u001b[49m\u001b[43mgen_val\u001b[49m\u001b[43m,\u001b[49m\n\u001b[0;32m    239\u001b[0m \u001b[43m                  \u001b[49m\u001b[43mend_epoch\u001b[49m\u001b[43m,\u001b[49m\u001b[43m \u001b[49m\u001b[43mCuda\u001b[49m\u001b[43m)\u001b[49m\n\u001b[0;32m    240\u001b[0m     lr_scheduler\u001b[38;5;241m.\u001b[39mstep()\n",
      "File \u001b[1;32mD:\\PycharmProjects\\fasterRCNN\\train\\utils_fit.py:44\u001b[0m, in \u001b[0;36mfit_one_epoch\u001b[1;34m(model, train_util, loss_history, optimizer, epoch, epoch_step, epoch_step_val, gen, gen_val, Epoch, cuda)\u001b[0m\n\u001b[0;32m     41\u001b[0m     \u001b[38;5;28;01mif\u001b[39;00m cuda:\n\u001b[0;32m     42\u001b[0m         images \u001b[38;5;241m=\u001b[39m images\u001b[38;5;241m.\u001b[39mcuda()\n\u001b[1;32m---> 44\u001b[0m rpn_loc, rpn_cls, roi_loc, roi_cls, total \u001b[38;5;241m=\u001b[39m \u001b[43mtrain_util\u001b[49m\u001b[38;5;241;43m.\u001b[39;49m\u001b[43mtrain_step\u001b[49m\u001b[43m(\u001b[49m\u001b[43mimages\u001b[49m\u001b[43m,\u001b[49m\u001b[43m \u001b[49m\u001b[43mboxes\u001b[49m\u001b[43m,\u001b[49m\u001b[43m \u001b[49m\u001b[43mlabels\u001b[49m\u001b[43m,\u001b[49m\u001b[43m \u001b[49m\u001b[38;5;241;43m1\u001b[39;49m\u001b[43m)\u001b[49m\n\u001b[0;32m     45\u001b[0m total_loss \u001b[38;5;241m+\u001b[39m\u001b[38;5;241m=\u001b[39m total\u001b[38;5;241m.\u001b[39mitem()\n\u001b[0;32m     46\u001b[0m rpn_loc_loss \u001b[38;5;241m+\u001b[39m\u001b[38;5;241m=\u001b[39m rpn_loc\u001b[38;5;241m.\u001b[39mitem()\n",
      "File \u001b[1;32mD:\\PycharmProjects\\fasterRCNN\\train\\frcnn_training.py:336\u001b[0m, in \u001b[0;36mFasterRCNNTrainer.train_step\u001b[1;34m(self, imgs, bboxes, labels, scale)\u001b[0m\n\u001b[0;32m    334\u001b[0m \u001b[38;5;28mself\u001b[39m\u001b[38;5;241m.\u001b[39moptimizer\u001b[38;5;241m.\u001b[39mzero_grad()\n\u001b[0;32m    335\u001b[0m losses \u001b[38;5;241m=\u001b[39m \u001b[38;5;28mself\u001b[39m\u001b[38;5;241m.\u001b[39mforward(imgs, bboxes, labels, scale)\n\u001b[1;32m--> 336\u001b[0m \u001b[43mlosses\u001b[49m\u001b[43m[\u001b[49m\u001b[38;5;241;43m-\u001b[39;49m\u001b[38;5;241;43m1\u001b[39;49m\u001b[43m]\u001b[49m\u001b[38;5;241;43m.\u001b[39;49m\u001b[43mbackward\u001b[49m\u001b[43m(\u001b[49m\u001b[43m)\u001b[49m\n\u001b[0;32m    337\u001b[0m \u001b[38;5;28mself\u001b[39m\u001b[38;5;241m.\u001b[39moptimizer\u001b[38;5;241m.\u001b[39mstep()\n\u001b[0;32m    338\u001b[0m \u001b[38;5;28;01mreturn\u001b[39;00m losses\n",
      "File \u001b[1;32m~\\.conda\\envs\\pytorch\\lib\\site-packages\\torch\\_tensor.py:255\u001b[0m, in \u001b[0;36mTensor.backward\u001b[1;34m(self, gradient, retain_graph, create_graph, inputs)\u001b[0m\n\u001b[0;32m    246\u001b[0m \u001b[38;5;28;01mif\u001b[39;00m has_torch_function_unary(\u001b[38;5;28mself\u001b[39m):\n\u001b[0;32m    247\u001b[0m     \u001b[38;5;28;01mreturn\u001b[39;00m handle_torch_function(\n\u001b[0;32m    248\u001b[0m         Tensor\u001b[38;5;241m.\u001b[39mbackward,\n\u001b[0;32m    249\u001b[0m         (\u001b[38;5;28mself\u001b[39m,),\n\u001b[1;32m   (...)\u001b[0m\n\u001b[0;32m    253\u001b[0m         create_graph\u001b[38;5;241m=\u001b[39mcreate_graph,\n\u001b[0;32m    254\u001b[0m         inputs\u001b[38;5;241m=\u001b[39minputs)\n\u001b[1;32m--> 255\u001b[0m \u001b[43mtorch\u001b[49m\u001b[38;5;241;43m.\u001b[39;49m\u001b[43mautograd\u001b[49m\u001b[38;5;241;43m.\u001b[39;49m\u001b[43mbackward\u001b[49m\u001b[43m(\u001b[49m\u001b[38;5;28;43mself\u001b[39;49m\u001b[43m,\u001b[49m\u001b[43m \u001b[49m\u001b[43mgradient\u001b[49m\u001b[43m,\u001b[49m\u001b[43m \u001b[49m\u001b[43mretain_graph\u001b[49m\u001b[43m,\u001b[49m\u001b[43m \u001b[49m\u001b[43mcreate_graph\u001b[49m\u001b[43m,\u001b[49m\u001b[43m \u001b[49m\u001b[43minputs\u001b[49m\u001b[38;5;241;43m=\u001b[39;49m\u001b[43minputs\u001b[49m\u001b[43m)\u001b[49m\n",
      "File \u001b[1;32m~\\.conda\\envs\\pytorch\\lib\\site-packages\\torch\\autograd\\__init__.py:147\u001b[0m, in \u001b[0;36mbackward\u001b[1;34m(tensors, grad_tensors, retain_graph, create_graph, grad_variables, inputs)\u001b[0m\n\u001b[0;32m    144\u001b[0m \u001b[38;5;28;01mif\u001b[39;00m retain_graph \u001b[38;5;129;01mis\u001b[39;00m \u001b[38;5;28;01mNone\u001b[39;00m:\n\u001b[0;32m    145\u001b[0m     retain_graph \u001b[38;5;241m=\u001b[39m create_graph\n\u001b[1;32m--> 147\u001b[0m \u001b[43mVariable\u001b[49m\u001b[38;5;241;43m.\u001b[39;49m\u001b[43m_execution_engine\u001b[49m\u001b[38;5;241;43m.\u001b[39;49m\u001b[43mrun_backward\u001b[49m\u001b[43m(\u001b[49m\n\u001b[0;32m    148\u001b[0m \u001b[43m    \u001b[49m\u001b[43mtensors\u001b[49m\u001b[43m,\u001b[49m\u001b[43m \u001b[49m\u001b[43mgrad_tensors_\u001b[49m\u001b[43m,\u001b[49m\u001b[43m \u001b[49m\u001b[43mretain_graph\u001b[49m\u001b[43m,\u001b[49m\u001b[43m \u001b[49m\u001b[43mcreate_graph\u001b[49m\u001b[43m,\u001b[49m\u001b[43m \u001b[49m\u001b[43minputs\u001b[49m\u001b[43m,\u001b[49m\n\u001b[0;32m    149\u001b[0m \u001b[43m    \u001b[49m\u001b[43mallow_unreachable\u001b[49m\u001b[38;5;241;43m=\u001b[39;49m\u001b[38;5;28;43;01mTrue\u001b[39;49;00m\u001b[43m,\u001b[49m\u001b[43m \u001b[49m\u001b[43maccumulate_grad\u001b[49m\u001b[38;5;241;43m=\u001b[39;49m\u001b[38;5;28;43;01mTrue\u001b[39;49;00m\u001b[43m)\u001b[49m\n",
      "\u001b[1;31mKeyboardInterrupt\u001b[0m: "
     ]
    }
   ],
   "source": [
    "from training import training\n",
    "training(model_path = 'model_data/ep022-loss1.245-val_loss0.901.pth',\n",
    "         pretrained=False,\n",
    "         Init_Epoch=0,\n",
    "         Freeze_Epoch=10,\n",
    "         Freeze_batch_size=5,\n",
    "         Freeze_lr=1e-5,\n",
    "         UnFreeze_Epoch=30,\n",
    "         Unfreeze_batch_size=4,\n",
    "         Unfreeze_lr=1e-6)"
   ]
  },
  {
   "cell_type": "code",
   "execution_count": 2,
   "id": "dccafe87",
   "metadata": {},
   "outputs": [],
   "source": [
    "import torch\n",
    "model_path = 'model_data/ep022-loss1.245-val_loss0.901.pth'\n",
    "pretrained_dict = torch.load(model_path, map_location='cpu')"
   ]
  },
  {
   "cell_type": "code",
   "execution_count": 3,
   "id": "2dc02bde",
   "metadata": {
    "collapsed": true
   },
   "outputs": [
    {
     "data": {
      "text/plain": [
       "['extractor.0.weight',\n",
       " 'extractor.1.weight',\n",
       " 'extractor.1.bias',\n",
       " 'extractor.1.running_mean',\n",
       " 'extractor.1.running_var',\n",
       " 'extractor.1.num_batches_tracked',\n",
       " 'extractor.4.0.conv1.weight',\n",
       " 'extractor.4.0.bn1.weight',\n",
       " 'extractor.4.0.bn1.bias',\n",
       " 'extractor.4.0.bn1.running_mean',\n",
       " 'extractor.4.0.bn1.running_var',\n",
       " 'extractor.4.0.bn1.num_batches_tracked',\n",
       " 'extractor.4.0.conv2.weight',\n",
       " 'extractor.4.0.bn2.weight',\n",
       " 'extractor.4.0.bn2.bias',\n",
       " 'extractor.4.0.bn2.running_mean',\n",
       " 'extractor.4.0.bn2.running_var',\n",
       " 'extractor.4.0.bn2.num_batches_tracked',\n",
       " 'extractor.4.0.conv3.weight',\n",
       " 'extractor.4.0.bn3.weight',\n",
       " 'extractor.4.0.bn3.bias',\n",
       " 'extractor.4.0.bn3.running_mean',\n",
       " 'extractor.4.0.bn3.running_var',\n",
       " 'extractor.4.0.bn3.num_batches_tracked',\n",
       " 'extractor.4.0.downsample.0.weight',\n",
       " 'extractor.4.0.downsample.1.weight',\n",
       " 'extractor.4.0.downsample.1.bias',\n",
       " 'extractor.4.0.downsample.1.running_mean',\n",
       " 'extractor.4.0.downsample.1.running_var',\n",
       " 'extractor.4.0.downsample.1.num_batches_tracked',\n",
       " 'extractor.4.1.conv1.weight',\n",
       " 'extractor.4.1.bn1.weight',\n",
       " 'extractor.4.1.bn1.bias',\n",
       " 'extractor.4.1.bn1.running_mean',\n",
       " 'extractor.4.1.bn1.running_var',\n",
       " 'extractor.4.1.bn1.num_batches_tracked',\n",
       " 'extractor.4.1.conv2.weight',\n",
       " 'extractor.4.1.bn2.weight',\n",
       " 'extractor.4.1.bn2.bias',\n",
       " 'extractor.4.1.bn2.running_mean',\n",
       " 'extractor.4.1.bn2.running_var',\n",
       " 'extractor.4.1.bn2.num_batches_tracked',\n",
       " 'extractor.4.1.conv3.weight',\n",
       " 'extractor.4.1.bn3.weight',\n",
       " 'extractor.4.1.bn3.bias',\n",
       " 'extractor.4.1.bn3.running_mean',\n",
       " 'extractor.4.1.bn3.running_var',\n",
       " 'extractor.4.1.bn3.num_batches_tracked',\n",
       " 'extractor.4.2.conv1.weight',\n",
       " 'extractor.4.2.bn1.weight',\n",
       " 'extractor.4.2.bn1.bias',\n",
       " 'extractor.4.2.bn1.running_mean',\n",
       " 'extractor.4.2.bn1.running_var',\n",
       " 'extractor.4.2.bn1.num_batches_tracked',\n",
       " 'extractor.4.2.conv2.weight',\n",
       " 'extractor.4.2.bn2.weight',\n",
       " 'extractor.4.2.bn2.bias',\n",
       " 'extractor.4.2.bn2.running_mean',\n",
       " 'extractor.4.2.bn2.running_var',\n",
       " 'extractor.4.2.bn2.num_batches_tracked',\n",
       " 'extractor.4.2.conv3.weight',\n",
       " 'extractor.4.2.bn3.weight',\n",
       " 'extractor.4.2.bn3.bias',\n",
       " 'extractor.4.2.bn3.running_mean',\n",
       " 'extractor.4.2.bn3.running_var',\n",
       " 'extractor.4.2.bn3.num_batches_tracked',\n",
       " 'extractor.5.0.conv1.weight',\n",
       " 'extractor.5.0.bn1.weight',\n",
       " 'extractor.5.0.bn1.bias',\n",
       " 'extractor.5.0.bn1.running_mean',\n",
       " 'extractor.5.0.bn1.running_var',\n",
       " 'extractor.5.0.bn1.num_batches_tracked',\n",
       " 'extractor.5.0.conv2.weight',\n",
       " 'extractor.5.0.bn2.weight',\n",
       " 'extractor.5.0.bn2.bias',\n",
       " 'extractor.5.0.bn2.running_mean',\n",
       " 'extractor.5.0.bn2.running_var',\n",
       " 'extractor.5.0.bn2.num_batches_tracked',\n",
       " 'extractor.5.0.conv3.weight',\n",
       " 'extractor.5.0.bn3.weight',\n",
       " 'extractor.5.0.bn3.bias',\n",
       " 'extractor.5.0.bn3.running_mean',\n",
       " 'extractor.5.0.bn3.running_var',\n",
       " 'extractor.5.0.bn3.num_batches_tracked',\n",
       " 'extractor.5.0.downsample.0.weight',\n",
       " 'extractor.5.0.downsample.1.weight',\n",
       " 'extractor.5.0.downsample.1.bias',\n",
       " 'extractor.5.0.downsample.1.running_mean',\n",
       " 'extractor.5.0.downsample.1.running_var',\n",
       " 'extractor.5.0.downsample.1.num_batches_tracked',\n",
       " 'extractor.5.1.conv1.weight',\n",
       " 'extractor.5.1.bn1.weight',\n",
       " 'extractor.5.1.bn1.bias',\n",
       " 'extractor.5.1.bn1.running_mean',\n",
       " 'extractor.5.1.bn1.running_var',\n",
       " 'extractor.5.1.bn1.num_batches_tracked',\n",
       " 'extractor.5.1.conv2.weight',\n",
       " 'extractor.5.1.bn2.weight',\n",
       " 'extractor.5.1.bn2.bias',\n",
       " 'extractor.5.1.bn2.running_mean',\n",
       " 'extractor.5.1.bn2.running_var',\n",
       " 'extractor.5.1.bn2.num_batches_tracked',\n",
       " 'extractor.5.1.conv3.weight',\n",
       " 'extractor.5.1.bn3.weight',\n",
       " 'extractor.5.1.bn3.bias',\n",
       " 'extractor.5.1.bn3.running_mean',\n",
       " 'extractor.5.1.bn3.running_var',\n",
       " 'extractor.5.1.bn3.num_batches_tracked',\n",
       " 'extractor.5.2.conv1.weight',\n",
       " 'extractor.5.2.bn1.weight',\n",
       " 'extractor.5.2.bn1.bias',\n",
       " 'extractor.5.2.bn1.running_mean',\n",
       " 'extractor.5.2.bn1.running_var',\n",
       " 'extractor.5.2.bn1.num_batches_tracked',\n",
       " 'extractor.5.2.conv2.weight',\n",
       " 'extractor.5.2.bn2.weight',\n",
       " 'extractor.5.2.bn2.bias',\n",
       " 'extractor.5.2.bn2.running_mean',\n",
       " 'extractor.5.2.bn2.running_var',\n",
       " 'extractor.5.2.bn2.num_batches_tracked',\n",
       " 'extractor.5.2.conv3.weight',\n",
       " 'extractor.5.2.bn3.weight',\n",
       " 'extractor.5.2.bn3.bias',\n",
       " 'extractor.5.2.bn3.running_mean',\n",
       " 'extractor.5.2.bn3.running_var',\n",
       " 'extractor.5.2.bn3.num_batches_tracked',\n",
       " 'extractor.5.3.conv1.weight',\n",
       " 'extractor.5.3.bn1.weight',\n",
       " 'extractor.5.3.bn1.bias',\n",
       " 'extractor.5.3.bn1.running_mean',\n",
       " 'extractor.5.3.bn1.running_var',\n",
       " 'extractor.5.3.bn1.num_batches_tracked',\n",
       " 'extractor.5.3.conv2.weight',\n",
       " 'extractor.5.3.bn2.weight',\n",
       " 'extractor.5.3.bn2.bias',\n",
       " 'extractor.5.3.bn2.running_mean',\n",
       " 'extractor.5.3.bn2.running_var',\n",
       " 'extractor.5.3.bn2.num_batches_tracked',\n",
       " 'extractor.5.3.conv3.weight',\n",
       " 'extractor.5.3.bn3.weight',\n",
       " 'extractor.5.3.bn3.bias',\n",
       " 'extractor.5.3.bn3.running_mean',\n",
       " 'extractor.5.3.bn3.running_var',\n",
       " 'extractor.5.3.bn3.num_batches_tracked',\n",
       " 'extractor.6.0.conv1.weight',\n",
       " 'extractor.6.0.bn1.weight',\n",
       " 'extractor.6.0.bn1.bias',\n",
       " 'extractor.6.0.bn1.running_mean',\n",
       " 'extractor.6.0.bn1.running_var',\n",
       " 'extractor.6.0.bn1.num_batches_tracked',\n",
       " 'extractor.6.0.conv2.weight',\n",
       " 'extractor.6.0.bn2.weight',\n",
       " 'extractor.6.0.bn2.bias',\n",
       " 'extractor.6.0.bn2.running_mean',\n",
       " 'extractor.6.0.bn2.running_var',\n",
       " 'extractor.6.0.bn2.num_batches_tracked',\n",
       " 'extractor.6.0.conv3.weight',\n",
       " 'extractor.6.0.bn3.weight',\n",
       " 'extractor.6.0.bn3.bias',\n",
       " 'extractor.6.0.bn3.running_mean',\n",
       " 'extractor.6.0.bn3.running_var',\n",
       " 'extractor.6.0.bn3.num_batches_tracked',\n",
       " 'extractor.6.0.downsample.0.weight',\n",
       " 'extractor.6.0.downsample.1.weight',\n",
       " 'extractor.6.0.downsample.1.bias',\n",
       " 'extractor.6.0.downsample.1.running_mean',\n",
       " 'extractor.6.0.downsample.1.running_var',\n",
       " 'extractor.6.0.downsample.1.num_batches_tracked',\n",
       " 'extractor.6.1.conv1.weight',\n",
       " 'extractor.6.1.bn1.weight',\n",
       " 'extractor.6.1.bn1.bias',\n",
       " 'extractor.6.1.bn1.running_mean',\n",
       " 'extractor.6.1.bn1.running_var',\n",
       " 'extractor.6.1.bn1.num_batches_tracked',\n",
       " 'extractor.6.1.conv2.weight',\n",
       " 'extractor.6.1.bn2.weight',\n",
       " 'extractor.6.1.bn2.bias',\n",
       " 'extractor.6.1.bn2.running_mean',\n",
       " 'extractor.6.1.bn2.running_var',\n",
       " 'extractor.6.1.bn2.num_batches_tracked',\n",
       " 'extractor.6.1.conv3.weight',\n",
       " 'extractor.6.1.bn3.weight',\n",
       " 'extractor.6.1.bn3.bias',\n",
       " 'extractor.6.1.bn3.running_mean',\n",
       " 'extractor.6.1.bn3.running_var',\n",
       " 'extractor.6.1.bn3.num_batches_tracked',\n",
       " 'extractor.6.2.conv1.weight',\n",
       " 'extractor.6.2.bn1.weight',\n",
       " 'extractor.6.2.bn1.bias',\n",
       " 'extractor.6.2.bn1.running_mean',\n",
       " 'extractor.6.2.bn1.running_var',\n",
       " 'extractor.6.2.bn1.num_batches_tracked',\n",
       " 'extractor.6.2.conv2.weight',\n",
       " 'extractor.6.2.bn2.weight',\n",
       " 'extractor.6.2.bn2.bias',\n",
       " 'extractor.6.2.bn2.running_mean',\n",
       " 'extractor.6.2.bn2.running_var',\n",
       " 'extractor.6.2.bn2.num_batches_tracked',\n",
       " 'extractor.6.2.conv3.weight',\n",
       " 'extractor.6.2.bn3.weight',\n",
       " 'extractor.6.2.bn3.bias',\n",
       " 'extractor.6.2.bn3.running_mean',\n",
       " 'extractor.6.2.bn3.running_var',\n",
       " 'extractor.6.2.bn3.num_batches_tracked',\n",
       " 'extractor.6.3.conv1.weight',\n",
       " 'extractor.6.3.bn1.weight',\n",
       " 'extractor.6.3.bn1.bias',\n",
       " 'extractor.6.3.bn1.running_mean',\n",
       " 'extractor.6.3.bn1.running_var',\n",
       " 'extractor.6.3.bn1.num_batches_tracked',\n",
       " 'extractor.6.3.conv2.weight',\n",
       " 'extractor.6.3.bn2.weight',\n",
       " 'extractor.6.3.bn2.bias',\n",
       " 'extractor.6.3.bn2.running_mean',\n",
       " 'extractor.6.3.bn2.running_var',\n",
       " 'extractor.6.3.bn2.num_batches_tracked',\n",
       " 'extractor.6.3.conv3.weight',\n",
       " 'extractor.6.3.bn3.weight',\n",
       " 'extractor.6.3.bn3.bias',\n",
       " 'extractor.6.3.bn3.running_mean',\n",
       " 'extractor.6.3.bn3.running_var',\n",
       " 'extractor.6.3.bn3.num_batches_tracked',\n",
       " 'extractor.6.4.conv1.weight',\n",
       " 'extractor.6.4.bn1.weight',\n",
       " 'extractor.6.4.bn1.bias',\n",
       " 'extractor.6.4.bn1.running_mean',\n",
       " 'extractor.6.4.bn1.running_var',\n",
       " 'extractor.6.4.bn1.num_batches_tracked',\n",
       " 'extractor.6.4.conv2.weight',\n",
       " 'extractor.6.4.bn2.weight',\n",
       " 'extractor.6.4.bn2.bias',\n",
       " 'extractor.6.4.bn2.running_mean',\n",
       " 'extractor.6.4.bn2.running_var',\n",
       " 'extractor.6.4.bn2.num_batches_tracked',\n",
       " 'extractor.6.4.conv3.weight',\n",
       " 'extractor.6.4.bn3.weight',\n",
       " 'extractor.6.4.bn3.bias',\n",
       " 'extractor.6.4.bn3.running_mean',\n",
       " 'extractor.6.4.bn3.running_var',\n",
       " 'extractor.6.4.bn3.num_batches_tracked',\n",
       " 'extractor.6.5.conv1.weight',\n",
       " 'extractor.6.5.bn1.weight',\n",
       " 'extractor.6.5.bn1.bias',\n",
       " 'extractor.6.5.bn1.running_mean',\n",
       " 'extractor.6.5.bn1.running_var',\n",
       " 'extractor.6.5.bn1.num_batches_tracked',\n",
       " 'extractor.6.5.conv2.weight',\n",
       " 'extractor.6.5.bn2.weight',\n",
       " 'extractor.6.5.bn2.bias',\n",
       " 'extractor.6.5.bn2.running_mean',\n",
       " 'extractor.6.5.bn2.running_var',\n",
       " 'extractor.6.5.bn2.num_batches_tracked',\n",
       " 'extractor.6.5.conv3.weight',\n",
       " 'extractor.6.5.bn3.weight',\n",
       " 'extractor.6.5.bn3.bias',\n",
       " 'extractor.6.5.bn3.running_mean',\n",
       " 'extractor.6.5.bn3.running_var',\n",
       " 'extractor.6.5.bn3.num_batches_tracked',\n",
       " 'rpn.conv1.weight',\n",
       " 'rpn.conv1.bias',\n",
       " 'rpn.score.weight',\n",
       " 'rpn.score.bias',\n",
       " 'rpn.loc.weight',\n",
       " 'rpn.loc.bias',\n",
       " 'attention.conv.weight',\n",
       " 'head.classifier.0.0.conv1.weight',\n",
       " 'head.classifier.0.0.bn1.weight',\n",
       " 'head.classifier.0.0.bn1.bias',\n",
       " 'head.classifier.0.0.bn1.running_mean',\n",
       " 'head.classifier.0.0.bn1.running_var',\n",
       " 'head.classifier.0.0.bn1.num_batches_tracked',\n",
       " 'head.classifier.0.0.conv2.weight',\n",
       " 'head.classifier.0.0.bn2.weight',\n",
       " 'head.classifier.0.0.bn2.bias',\n",
       " 'head.classifier.0.0.bn2.running_mean',\n",
       " 'head.classifier.0.0.bn2.running_var',\n",
       " 'head.classifier.0.0.bn2.num_batches_tracked',\n",
       " 'head.classifier.0.0.conv3.weight',\n",
       " 'head.classifier.0.0.bn3.weight',\n",
       " 'head.classifier.0.0.bn3.bias',\n",
       " 'head.classifier.0.0.bn3.running_mean',\n",
       " 'head.classifier.0.0.bn3.running_var',\n",
       " 'head.classifier.0.0.bn3.num_batches_tracked',\n",
       " 'head.classifier.0.0.downsample.0.weight',\n",
       " 'head.classifier.0.0.downsample.1.weight',\n",
       " 'head.classifier.0.0.downsample.1.bias',\n",
       " 'head.classifier.0.0.downsample.1.running_mean',\n",
       " 'head.classifier.0.0.downsample.1.running_var',\n",
       " 'head.classifier.0.0.downsample.1.num_batches_tracked',\n",
       " 'head.classifier.0.1.conv1.weight',\n",
       " 'head.classifier.0.1.bn1.weight',\n",
       " 'head.classifier.0.1.bn1.bias',\n",
       " 'head.classifier.0.1.bn1.running_mean',\n",
       " 'head.classifier.0.1.bn1.running_var',\n",
       " 'head.classifier.0.1.bn1.num_batches_tracked',\n",
       " 'head.classifier.0.1.conv2.weight',\n",
       " 'head.classifier.0.1.bn2.weight',\n",
       " 'head.classifier.0.1.bn2.bias',\n",
       " 'head.classifier.0.1.bn2.running_mean',\n",
       " 'head.classifier.0.1.bn2.running_var',\n",
       " 'head.classifier.0.1.bn2.num_batches_tracked',\n",
       " 'head.classifier.0.1.conv3.weight',\n",
       " 'head.classifier.0.1.bn3.weight',\n",
       " 'head.classifier.0.1.bn3.bias',\n",
       " 'head.classifier.0.1.bn3.running_mean',\n",
       " 'head.classifier.0.1.bn3.running_var',\n",
       " 'head.classifier.0.1.bn3.num_batches_tracked',\n",
       " 'head.classifier.0.2.conv1.weight',\n",
       " 'head.classifier.0.2.bn1.weight',\n",
       " 'head.classifier.0.2.bn1.bias',\n",
       " 'head.classifier.0.2.bn1.running_mean',\n",
       " 'head.classifier.0.2.bn1.running_var',\n",
       " 'head.classifier.0.2.bn1.num_batches_tracked',\n",
       " 'head.classifier.0.2.conv2.weight',\n",
       " 'head.classifier.0.2.bn2.weight',\n",
       " 'head.classifier.0.2.bn2.bias',\n",
       " 'head.classifier.0.2.bn2.running_mean',\n",
       " 'head.classifier.0.2.bn2.running_var',\n",
       " 'head.classifier.0.2.bn2.num_batches_tracked',\n",
       " 'head.classifier.0.2.conv3.weight',\n",
       " 'head.classifier.0.2.bn3.weight',\n",
       " 'head.classifier.0.2.bn3.bias',\n",
       " 'head.classifier.0.2.bn3.running_mean',\n",
       " 'head.classifier.0.2.bn3.running_var',\n",
       " 'head.classifier.0.2.bn3.num_batches_tracked',\n",
       " 'head.cls_loc.weight',\n",
       " 'head.cls_loc.bias',\n",
       " 'head.score.weight',\n",
       " 'head.score.bias',\n",
       " 'head.attention.conv.weight']"
      ]
     },
     "execution_count": 3,
     "metadata": {},
     "output_type": "execute_result"
    }
   ],
   "source": [
    "list(pretrained_dict.keys())"
   ]
  },
  {
   "cell_type": "markdown",
   "id": "a55c2065",
   "metadata": {},
   "source": [
    "!shutdown -s -t 0"
   ]
  },
  {
   "cell_type": "code",
   "execution_count": 1,
   "id": "bc675e60",
   "metadata": {
    "collapsed": true
   },
   "outputs": [
    {
     "name": "stdout",
     "output_type": "stream",
     "text": [
      "['extractor.0.weight',\n",
      " 'extractor.1.weight',\n",
      " 'extractor.1.bias',\n",
      " 'extractor.1.running_mean',\n",
      " 'extractor.1.running_var',\n",
      " 'extractor.1.num_batches_tracked',\n",
      " 'extractor.4.0.conv1.weight',\n",
      " 'extractor.4.0.bn1.weight',\n",
      " 'extractor.4.0.bn1.bias',\n",
      " 'extractor.4.0.bn1.running_mean',\n",
      " 'extractor.4.0.bn1.running_var',\n",
      " 'extractor.4.0.bn1.num_batches_tracked',\n",
      " 'extractor.4.0.conv2.weight',\n",
      " 'extractor.4.0.bn2.weight',\n",
      " 'extractor.4.0.bn2.bias',\n",
      " 'extractor.4.0.bn2.running_mean',\n",
      " 'extractor.4.0.bn2.running_var',\n",
      " 'extractor.4.0.bn2.num_batches_tracked',\n",
      " 'extractor.4.0.conv3.weight',\n",
      " 'extractor.4.0.bn3.weight',\n",
      " 'extractor.4.0.bn3.bias',\n",
      " 'extractor.4.0.bn3.running_mean',\n",
      " 'extractor.4.0.bn3.running_var',\n",
      " 'extractor.4.0.bn3.num_batches_tracked',\n",
      " 'extractor.4.0.downsample.0.weight',\n",
      " 'extractor.4.0.downsample.1.weight',\n",
      " 'extractor.4.0.downsample.1.bias',\n",
      " 'extractor.4.0.downsample.1.running_mean',\n",
      " 'extractor.4.0.downsample.1.running_var',\n",
      " 'extractor.4.0.downsample.1.num_batches_tracked',\n",
      " 'extractor.4.1.conv1.weight',\n",
      " 'extractor.4.1.bn1.weight',\n",
      " 'extractor.4.1.bn1.bias',\n",
      " 'extractor.4.1.bn1.running_mean',\n",
      " 'extractor.4.1.bn1.running_var',\n",
      " 'extractor.4.1.bn1.num_batches_tracked',\n",
      " 'extractor.4.1.conv2.weight',\n",
      " 'extractor.4.1.bn2.weight',\n",
      " 'extractor.4.1.bn2.bias',\n",
      " 'extractor.4.1.bn2.running_mean',\n",
      " 'extractor.4.1.bn2.running_var',\n",
      " 'extractor.4.1.bn2.num_batches_tracked',\n",
      " 'extractor.4.1.conv3.weight',\n",
      " 'extractor.4.1.bn3.weight',\n",
      " 'extractor.4.1.bn3.bias',\n",
      " 'extractor.4.1.bn3.running_mean',\n",
      " 'extractor.4.1.bn3.running_var',\n",
      " 'extractor.4.1.bn3.num_batches_tracked',\n",
      " 'extractor.4.2.conv1.weight',\n",
      " 'extractor.4.2.bn1.weight',\n",
      " 'extractor.4.2.bn1.bias',\n",
      " 'extractor.4.2.bn1.running_mean',\n",
      " 'extractor.4.2.bn1.running_var',\n",
      " 'extractor.4.2.bn1.num_batches_tracked',\n",
      " 'extractor.4.2.conv2.weight',\n",
      " 'extractor.4.2.bn2.weight',\n",
      " 'extractor.4.2.bn2.bias',\n",
      " 'extractor.4.2.bn2.running_mean',\n",
      " 'extractor.4.2.bn2.running_var',\n",
      " 'extractor.4.2.bn2.num_batches_tracked',\n",
      " 'extractor.4.2.conv3.weight',\n",
      " 'extractor.4.2.bn3.weight',\n",
      " 'extractor.4.2.bn3.bias',\n",
      " 'extractor.4.2.bn3.running_mean',\n",
      " 'extractor.4.2.bn3.running_var',\n",
      " 'extractor.4.2.bn3.num_batches_tracked',\n",
      " 'extractor.5.0.conv1.weight',\n",
      " 'extractor.5.0.bn1.weight',\n",
      " 'extractor.5.0.bn1.bias',\n",
      " 'extractor.5.0.bn1.running_mean',\n",
      " 'extractor.5.0.bn1.running_var',\n",
      " 'extractor.5.0.bn1.num_batches_tracked',\n",
      " 'extractor.5.0.conv2.weight',\n",
      " 'extractor.5.0.bn2.weight',\n",
      " 'extractor.5.0.bn2.bias',\n",
      " 'extractor.5.0.bn2.running_mean',\n",
      " 'extractor.5.0.bn2.running_var',\n",
      " 'extractor.5.0.bn2.num_batches_tracked',\n",
      " 'extractor.5.0.conv3.weight',\n",
      " 'extractor.5.0.bn3.weight',\n",
      " 'extractor.5.0.bn3.bias',\n",
      " 'extractor.5.0.bn3.running_mean',\n",
      " 'extractor.5.0.bn3.running_var',\n",
      " 'extractor.5.0.bn3.num_batches_tracked',\n",
      " 'extractor.5.0.downsample.0.weight',\n",
      " 'extractor.5.0.downsample.1.weight',\n",
      " 'extractor.5.0.downsample.1.bias',\n",
      " 'extractor.5.0.downsample.1.running_mean',\n",
      " 'extractor.5.0.downsample.1.running_var',\n",
      " 'extractor.5.0.downsample.1.num_batches_tracked',\n",
      " 'extractor.5.1.conv1.weight',\n",
      " 'extractor.5.1.bn1.weight',\n",
      " 'extractor.5.1.bn1.bias',\n",
      " 'extractor.5.1.bn1.running_mean',\n",
      " 'extractor.5.1.bn1.running_var',\n",
      " 'extractor.5.1.bn1.num_batches_tracked',\n",
      " 'extractor.5.1.conv2.weight',\n",
      " 'extractor.5.1.bn2.weight',\n",
      " 'extractor.5.1.bn2.bias',\n",
      " 'extractor.5.1.bn2.running_mean',\n",
      " 'extractor.5.1.bn2.running_var',\n",
      " 'extractor.5.1.bn2.num_batches_tracked',\n",
      " 'extractor.5.1.conv3.weight',\n",
      " 'extractor.5.1.bn3.weight',\n",
      " 'extractor.5.1.bn3.bias',\n",
      " 'extractor.5.1.bn3.running_mean',\n",
      " 'extractor.5.1.bn3.running_var',\n",
      " 'extractor.5.1.bn3.num_batches_tracked',\n",
      " 'extractor.5.2.conv1.weight',\n",
      " 'extractor.5.2.bn1.weight',\n",
      " 'extractor.5.2.bn1.bias',\n",
      " 'extractor.5.2.bn1.running_mean',\n",
      " 'extractor.5.2.bn1.running_var',\n",
      " 'extractor.5.2.bn1.num_batches_tracked',\n",
      " 'extractor.5.2.conv2.weight',\n",
      " 'extractor.5.2.bn2.weight',\n",
      " 'extractor.5.2.bn2.bias',\n",
      " 'extractor.5.2.bn2.running_mean',\n",
      " 'extractor.5.2.bn2.running_var',\n",
      " 'extractor.5.2.bn2.num_batches_tracked',\n",
      " 'extractor.5.2.conv3.weight',\n",
      " 'extractor.5.2.bn3.weight',\n",
      " 'extractor.5.2.bn3.bias',\n",
      " 'extractor.5.2.bn3.running_mean',\n",
      " 'extractor.5.2.bn3.running_var',\n",
      " 'extractor.5.2.bn3.num_batches_tracked',\n",
      " 'extractor.5.3.conv1.weight',\n",
      " 'extractor.5.3.bn1.weight',\n",
      " 'extractor.5.3.bn1.bias',\n",
      " 'extractor.5.3.bn1.running_mean',\n",
      " 'extractor.5.3.bn1.running_var',\n",
      " 'extractor.5.3.bn1.num_batches_tracked',\n",
      " 'extractor.5.3.conv2.weight',\n",
      " 'extractor.5.3.bn2.weight',\n",
      " 'extractor.5.3.bn2.bias',\n",
      " 'extractor.5.3.bn2.running_mean',\n",
      " 'extractor.5.3.bn2.running_var',\n",
      " 'extractor.5.3.bn2.num_batches_tracked',\n",
      " 'extractor.5.3.conv3.weight',\n",
      " 'extractor.5.3.bn3.weight',\n",
      " 'extractor.5.3.bn3.bias',\n",
      " 'extractor.5.3.bn3.running_mean',\n",
      " 'extractor.5.3.bn3.running_var',\n",
      " 'extractor.5.3.bn3.num_batches_tracked',\n",
      " 'extractor.6.0.conv1.weight',\n",
      " 'extractor.6.0.bn1.weight',\n",
      " 'extractor.6.0.bn1.bias',\n",
      " 'extractor.6.0.bn1.running_mean',\n",
      " 'extractor.6.0.bn1.running_var',\n",
      " 'extractor.6.0.bn1.num_batches_tracked',\n",
      " 'extractor.6.0.conv2.weight',\n",
      " 'extractor.6.0.bn2.weight',\n",
      " 'extractor.6.0.bn2.bias',\n",
      " 'extractor.6.0.bn2.running_mean',\n",
      " 'extractor.6.0.bn2.running_var',\n",
      " 'extractor.6.0.bn2.num_batches_tracked',\n",
      " 'extractor.6.0.conv3.weight',\n",
      " 'extractor.6.0.bn3.weight',\n",
      " 'extractor.6.0.bn3.bias',\n",
      " 'extractor.6.0.bn3.running_mean',\n",
      " 'extractor.6.0.bn3.running_var',\n",
      " 'extractor.6.0.bn3.num_batches_tracked',\n",
      " 'extractor.6.0.downsample.0.weight',\n",
      " 'extractor.6.0.downsample.1.weight',\n",
      " 'extractor.6.0.downsample.1.bias',\n",
      " 'extractor.6.0.downsample.1.running_mean',\n",
      " 'extractor.6.0.downsample.1.running_var',\n",
      " 'extractor.6.0.downsample.1.num_batches_tracked',\n",
      " 'extractor.6.1.conv1.weight',\n",
      " 'extractor.6.1.bn1.weight',\n",
      " 'extractor.6.1.bn1.bias',\n",
      " 'extractor.6.1.bn1.running_mean',\n",
      " 'extractor.6.1.bn1.running_var',\n",
      " 'extractor.6.1.bn1.num_batches_tracked',\n",
      " 'extractor.6.1.conv2.weight',\n",
      " 'extractor.6.1.bn2.weight',\n",
      " 'extractor.6.1.bn2.bias',\n",
      " 'extractor.6.1.bn2.running_mean',\n",
      " 'extractor.6.1.bn2.running_var',\n",
      " 'extractor.6.1.bn2.num_batches_tracked',\n",
      " 'extractor.6.1.conv3.weight',\n",
      " 'extractor.6.1.bn3.weight',\n",
      " 'extractor.6.1.bn3.bias',\n",
      " 'extractor.6.1.bn3.running_mean',\n",
      " 'extractor.6.1.bn3.running_var',\n",
      " 'extractor.6.1.bn3.num_batches_tracked',\n",
      " 'extractor.6.2.conv1.weight',\n",
      " 'extractor.6.2.bn1.weight',\n",
      " 'extractor.6.2.bn1.bias',\n",
      " 'extractor.6.2.bn1.running_mean',\n",
      " 'extractor.6.2.bn1.running_var',\n",
      " 'extractor.6.2.bn1.num_batches_tracked',\n",
      " 'extractor.6.2.conv2.weight',\n",
      " 'extractor.6.2.bn2.weight',\n",
      " 'extractor.6.2.bn2.bias',\n",
      " 'extractor.6.2.bn2.running_mean',\n",
      " 'extractor.6.2.bn2.running_var',\n",
      " 'extractor.6.2.bn2.num_batches_tracked',\n",
      " 'extractor.6.2.conv3.weight',\n",
      " 'extractor.6.2.bn3.weight',\n",
      " 'extractor.6.2.bn3.bias',\n",
      " 'extractor.6.2.bn3.running_mean',\n",
      " 'extractor.6.2.bn3.running_var',\n",
      " 'extractor.6.2.bn3.num_batches_tracked',\n",
      " 'extractor.6.3.conv1.weight',\n",
      " 'extractor.6.3.bn1.weight',\n",
      " 'extractor.6.3.bn1.bias',\n",
      " 'extractor.6.3.bn1.running_mean',\n",
      " 'extractor.6.3.bn1.running_var',\n",
      " 'extractor.6.3.bn1.num_batches_tracked',\n",
      " 'extractor.6.3.conv2.weight',\n",
      " 'extractor.6.3.bn2.weight',\n",
      " 'extractor.6.3.bn2.bias',\n",
      " 'extractor.6.3.bn2.running_mean',\n",
      " 'extractor.6.3.bn2.running_var',\n",
      " 'extractor.6.3.bn2.num_batches_tracked',\n",
      " 'extractor.6.3.conv3.weight',\n",
      " 'extractor.6.3.bn3.weight',\n",
      " 'extractor.6.3.bn3.bias',\n",
      " 'extractor.6.3.bn3.running_mean',\n",
      " 'extractor.6.3.bn3.running_var',\n",
      " 'extractor.6.3.bn3.num_batches_tracked',\n",
      " 'extractor.6.4.conv1.weight',\n",
      " 'extractor.6.4.bn1.weight',\n",
      " 'extractor.6.4.bn1.bias',\n",
      " 'extractor.6.4.bn1.running_mean',\n",
      " 'extractor.6.4.bn1.running_var',\n",
      " 'extractor.6.4.bn1.num_batches_tracked',\n",
      " 'extractor.6.4.conv2.weight',\n",
      " 'extractor.6.4.bn2.weight',\n",
      " 'extractor.6.4.bn2.bias',\n",
      " 'extractor.6.4.bn2.running_mean',\n",
      " 'extractor.6.4.bn2.running_var',\n",
      " 'extractor.6.4.bn2.num_batches_tracked',\n",
      " 'extractor.6.4.conv3.weight',\n",
      " 'extractor.6.4.bn3.weight',\n",
      " 'extractor.6.4.bn3.bias',\n",
      " 'extractor.6.4.bn3.running_mean',\n",
      " 'extractor.6.4.bn3.running_var',\n",
      " 'extractor.6.4.bn3.num_batches_tracked',\n",
      " 'extractor.6.5.conv1.weight',\n",
      " 'extractor.6.5.bn1.weight',\n",
      " 'extractor.6.5.bn1.bias',\n",
      " 'extractor.6.5.bn1.running_mean',\n",
      " 'extractor.6.5.bn1.running_var',\n",
      " 'extractor.6.5.bn1.num_batches_tracked',\n",
      " 'extractor.6.5.conv2.weight',\n",
      " 'extractor.6.5.bn2.weight',\n",
      " 'extractor.6.5.bn2.bias',\n",
      " 'extractor.6.5.bn2.running_mean',\n",
      " 'extractor.6.5.bn2.running_var',\n",
      " 'extractor.6.5.bn2.num_batches_tracked',\n",
      " 'extractor.6.5.conv3.weight',\n",
      " 'extractor.6.5.bn3.weight',\n",
      " 'extractor.6.5.bn3.bias',\n",
      " 'extractor.6.5.bn3.running_mean',\n",
      " 'extractor.6.5.bn3.running_var',\n",
      " 'extractor.6.5.bn3.num_batches_tracked',\n",
      " 'rpn.conv1.weight',\n",
      " 'rpn.conv1.bias',\n",
      " 'rpn.score.weight',\n",
      " 'rpn.score.bias',\n",
      " 'rpn.loc.weight',\n",
      " 'rpn.loc.bias',\n",
      " 'rpn.attention.conv.weight',\n",
      " 'head.classifier.0.0.conv1.weight',\n",
      " 'head.classifier.0.0.bn1.weight',\n",
      " 'head.classifier.0.0.bn1.bias',\n",
      " 'head.classifier.0.0.bn1.running_mean',\n",
      " 'head.classifier.0.0.bn1.running_var',\n",
      " 'head.classifier.0.0.bn1.num_batches_tracked',\n",
      " 'head.classifier.0.0.conv2.weight',\n",
      " 'head.classifier.0.0.bn2.weight',\n",
      " 'head.classifier.0.0.bn2.bias',\n",
      " 'head.classifier.0.0.bn2.running_mean',\n",
      " 'head.classifier.0.0.bn2.running_var',\n",
      " 'head.classifier.0.0.bn2.num_batches_tracked',\n",
      " 'head.classifier.0.0.conv3.weight',\n",
      " 'head.classifier.0.0.bn3.weight',\n",
      " 'head.classifier.0.0.bn3.bias',\n",
      " 'head.classifier.0.0.bn3.running_mean',\n",
      " 'head.classifier.0.0.bn3.running_var',\n",
      " 'head.classifier.0.0.bn3.num_batches_tracked',\n",
      " 'head.classifier.0.0.downsample.0.weight',\n",
      " 'head.classifier.0.0.downsample.1.weight',\n",
      " 'head.classifier.0.0.downsample.1.bias',\n",
      " 'head.classifier.0.0.downsample.1.running_mean',\n",
      " 'head.classifier.0.0.downsample.1.running_var',\n",
      " 'head.classifier.0.0.downsample.1.num_batches_tracked',\n",
      " 'head.classifier.0.1.conv1.weight',\n",
      " 'head.classifier.0.1.bn1.weight',\n",
      " 'head.classifier.0.1.bn1.bias',\n",
      " 'head.classifier.0.1.bn1.running_mean',\n",
      " 'head.classifier.0.1.bn1.running_var',\n",
      " 'head.classifier.0.1.bn1.num_batches_tracked',\n",
      " 'head.classifier.0.1.conv2.weight',\n",
      " 'head.classifier.0.1.bn2.weight',\n",
      " 'head.classifier.0.1.bn2.bias',\n",
      " 'head.classifier.0.1.bn2.running_mean',\n",
      " 'head.classifier.0.1.bn2.running_var',\n",
      " 'head.classifier.0.1.bn2.num_batches_tracked',\n",
      " 'head.classifier.0.1.conv3.weight',\n",
      " 'head.classifier.0.1.bn3.weight',\n",
      " 'head.classifier.0.1.bn3.bias',\n",
      " 'head.classifier.0.1.bn3.running_mean',\n",
      " 'head.classifier.0.1.bn3.running_var',\n",
      " 'head.classifier.0.1.bn3.num_batches_tracked',\n",
      " 'head.classifier.0.2.conv1.weight',\n",
      " 'head.classifier.0.2.bn1.weight',\n",
      " 'head.classifier.0.2.bn1.bias',\n",
      " 'head.classifier.0.2.bn1.running_mean',\n",
      " 'head.classifier.0.2.bn1.running_var',\n",
      " 'head.classifier.0.2.bn1.num_batches_tracked',\n",
      " 'head.classifier.0.2.conv2.weight',\n",
      " 'head.classifier.0.2.bn2.weight',\n",
      " 'head.classifier.0.2.bn2.bias',\n",
      " 'head.classifier.0.2.bn2.running_mean',\n",
      " 'head.classifier.0.2.bn2.running_var',\n",
      " 'head.classifier.0.2.bn2.num_batches_tracked',\n",
      " 'head.classifier.0.2.conv3.weight',\n",
      " 'head.classifier.0.2.bn3.weight',\n",
      " 'head.classifier.0.2.bn3.bias',\n",
      " 'head.classifier.0.2.bn3.running_mean',\n",
      " 'head.classifier.0.2.bn3.running_var',\n",
      " 'head.classifier.0.2.bn3.num_batches_tracked',\n",
      " 'head.cls_loc.weight',\n",
      " 'head.cls_loc.bias',\n",
      " 'head.score.weight',\n",
      " 'head.score.bias',\n",
      " 'head.attention.conv.weight']\n"
     ]
    }
   ],
   "source": [
    "from nets.fasterRCNN import FasterRCNN\n",
    "from pprint import pprint\n",
    "model = FasterRCNN(1, anchor_scales=[4,8,16], pretrained=False)\n",
    "pprint(list(model.state_dict().keys()))"
   ]
  },
  {
   "cell_type": "code",
   "execution_count": null,
   "id": "c8283d3c",
   "metadata": {},
   "outputs": [],
   "source": []
  }
 ],
 "metadata": {
  "kernelspec": {
   "display_name": "Python 3 (ipykernel)",
   "language": "python",
   "name": "python3"
  },
  "language_info": {
   "codemirror_mode": {
    "name": "ipython",
    "version": 3
   },
   "file_extension": ".py",
   "mimetype": "text/x-python",
   "name": "python",
   "nbconvert_exporter": "python",
   "pygments_lexer": "ipython3",
   "version": "3.8.11"
  }
 },
 "nbformat": 4,
 "nbformat_minor": 5
}
