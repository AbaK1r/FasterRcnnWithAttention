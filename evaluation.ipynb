{
 "cells": [
  {
   "cell_type": "code",
   "execution_count": 1,
   "id": "36475768",
   "metadata": {},
   "outputs": [],
   "source": [
    "from FasterRCNN_predict import FasterRCNN_predict\n",
    "from PIL import Image\n",
    "from tqdm.notebook import tqdm\n",
    "from torchvision.ops import box_iou\n",
    "from torch import tensor\n",
    "import numpy as np\n",
    "import os"
   ]
  },
  {
   "cell_type": "code",
   "execution_count": 1,
   "id": "883d5a95",
   "metadata": {},
   "outputs": [],
   "source": [
    "from image_intensification import ImageIntensification\n",
    "with open(\"./train/val.txt\")as f:\n",
    "    ii_lines = f.readlines()\n",
    "image_intensification = ImageIntensification()\n",
    "image_intensification(ii_lines, 10)"
   ]
  },
  {
   "cell_type": "markdown",
   "id": "88d503c3",
   "metadata": {},
   "source": [
    "## 保存预测结果"
   ]
  },
  {
   "cell_type": "code",
   "execution_count": 2,
   "id": "81c772e2",
   "metadata": {},
   "outputs": [],
   "source": [
    "val_data_save_path = './val_data_predict.txt'\n",
    "# train_data_save_path = './train_data_predict.txt'\n",
    "# intensified_data_save_path = './intensified_data_predict.txt'"
   ]
  },
  {
   "cell_type": "code",
   "execution_count": 3,
   "id": "3e922ab7",
   "metadata": {},
   "outputs": [],
   "source": [
    "with open(\"./train/val.txt\") as fval:\n",
    "    val_data_bace = tuple(fval.readlines())\n",
    "# with open(\"./train/train.txt\") as ftrain:\n",
    "#     train_data_bace = tuple(ftrain.readlines())\n",
    "# with open(\"./intensified_image.txt\") as fintensified:\n",
    "#     intensified_data_bace = tuple(fintensified.readlines())"
   ]
  },
  {
   "cell_type": "code",
   "execution_count": 4,
   "id": "0143700a",
   "metadata": {},
   "outputs": [],
   "source": [
    "def store_forecast_results(data_bace, model, store_dir):\n",
    "    with open(store_dir, 'w') as f:\n",
    "        for line in tqdm(data_bace):\n",
    "            datas = line.replace('\\n','').split(' ')\n",
    "            image = Image.open(datas[0])\n",
    "            bbox = model.detect_coordinates(image)\n",
    "            data_str = ''\n",
    "            for i in range(len(bbox[0])):\n",
    "                data_str += str(bbox[0][i]) + ',' + str(bbox[1][i]) + ',' + str(bbox[2][i]) + ',' + str(bbox[3][i]) + ',' + str(bbox[4][i])\n",
    "                if i != len(bbox[0]) - 1:\n",
    "                    data_str += ' '\n",
    "            if data_str == '':\n",
    "                data_str += 'x|'\n",
    "            else:\n",
    "                data_str += '|'\n",
    "            if len(datas) == 2:\n",
    "                data_str += datas[-1] + '\\n'\n",
    "            else:\n",
    "                data_str += '\\n'\n",
    "            f.write(data_str)"
   ]
  },
  {
   "cell_type": "code",
   "execution_count": 5,
   "id": "05c48377",
   "metadata": {
    "scrolled": true
   },
   "outputs": [
    {
     "name": "stdout",
     "output_type": "stream",
     "text": [
      "model_data/weights.pth model, anchors, and classes loaded.\n"
     ]
    }
   ],
   "source": [
    "model = FasterRCNN_predict()"
   ]
  },
  {
   "cell_type": "code",
   "execution_count": 6,
   "id": "2e39effb",
   "metadata": {},
   "outputs": [
    {
     "data": {
      "application/vnd.jupyter.widget-view+json": {
       "model_id": "70722c139d12435d90baefc9413a1fe6",
       "version_major": 2,
       "version_minor": 0
      },
      "text/plain": [
       "  0%|          | 0/624 [00:00<?, ?it/s]"
      ]
     },
     "metadata": {},
     "output_type": "display_data"
    }
   ],
   "source": [
    "store_forecast_results(val_data_bace, model, val_data_save_path)"
   ]
  },
  {
   "cell_type": "markdown",
   "id": "7bf71ca7",
   "metadata": {},
   "source": [
    "## 解析预测结果"
   ]
  },
  {
   "cell_type": "code",
   "execution_count": 18,
   "id": "5c4aa71a",
   "metadata": {},
   "outputs": [],
   "source": [
    "def print_result(TP, TN, FP, FN):\n",
    "    print(\"准确率acc ..............%.2f%%\"%((TP+TN)/(TP+TN+FP+FN)*100))\n",
    "    print(\"灵敏度sens .............%.2f%%\"%(TP/(TP+FN)*100))\n",
    "    print(\"特异度(真负例率)spec ...%.2f%%\"%(TN/(TN+FP)*100))\n",
    "    print(\"阳性预测率(精准度)ppv ..%.2f%%\"%(TP/(TP+FP)*100))\n",
    "    print(\"阴性预测率npv ..........%.2f%%\"%(TN/(FN+TN)*100))\n",
    "    print(\"F1 score ...............%.2f\"%(2*TP/(2*TP+FP+FN)))"
   ]
  },
  {
   "cell_type": "code",
   "execution_count": 7,
   "id": "5444ac2d",
   "metadata": {},
   "outputs": [],
   "source": [
    "def write_roc_data(TP, TN, FP, FN, confidence, iou):\n",
    "    dir = r\"C:\\Users\\AbaKir\\Desktop\\roc_data.csv\"\n",
    "    if not os.path.exists(dir):\n",
    "        with open(dir, 'w')as f:\n",
    "            f.write(\"confidence,TP,TN,FP,FN,准确率,灵敏度,特异度,阳性预测率,阴性预测率,F1得分,IoU\\n\")\n",
    "#             f.write(\"confidence,TP,TN,FP,FN,准确率,灵敏度,阳性预测率,F1得分,IoU\\n\")\n",
    "    f = open(dir, 'a')\n",
    "    f.write(str(confidence) + \",\")\n",
    "    f.write(\",\".join(map(str,[TP, TN, FP, FN])))\n",
    "    f.write(\",\" + str((TP+TN)/(TP+TN+FP+FN)))\n",
    "    f.write(\",\" + str(TP/(TP+FN)))\n",
    "    f.write(\",\" + str(TN/(TN+FP)))  #\n",
    "    f.write(\",\" + str(TP/(TP+FP)))\n",
    "    f.write(\",\" + str(TN/(FN+TN)))  #\n",
    "    f.write(\",\" + str(2*TP/(2*TP+FP+FN)))\n",
    "    f.write(\",\" + str(iou))\n",
    "    f.write(\"\\n\")\n",
    "    f.close()"
   ]
  },
  {
   "cell_type": "code",
   "execution_count": 8,
   "id": "56ad897a",
   "metadata": {
    "scrolled": true
   },
   "outputs": [],
   "source": [
    "with open(val_data_save_path, 'r')as f:\n",
    "    val_data_predict = tuple(f.readlines())\n",
    "for confidence in np.array(range(50, 100, 5))/100:\n",
    "    TP, TN, FP, FN = 0, 0, 0 ,0\n",
    "    ious, num_iou = 0., 0\n",
    "    for line in val_data_predict:\n",
    "        data = line.split('|')\n",
    "        if data[0] == 'x' and data[1] == '\\n': \n",
    "            TN += 1\n",
    "        elif data[0] == 'x' and data[1] != '\\n': \n",
    "            FN += 1\n",
    "        elif data[0] != 'x' and data[1] == '\\n':\n",
    "            FP += 1\n",
    "        else:\n",
    "            flag = True\n",
    "            for predict in data[0].split(' '):\n",
    "                if float(predict.split(',')[-1]) < confidence:\n",
    "                    continue\n",
    "                bbox_row = list(map(int,predict.split(',')[:-1]))\n",
    "                iou = box_iou(tensor([bbox_row]),\n",
    "                              tensor([list(map(int,data[1].split(',')[:-1]))])).numpy()[0][0]\n",
    "                ious += iou\n",
    "                num_iou += 1\n",
    "                if iou >= 0.5 and flag:\n",
    "                    TP += 1\n",
    "                    flag = False\n",
    "                else: FP += 1\n",
    "            if flag: FN += 1\n",
    "    write_roc_data(TP, TN, FP, FN, confidence, (ious)/(num_iou))\n",
    "#     print(TP, TN, FP, FN, confidence, (ious)/(num_iou))"
   ]
  },
  {
   "cell_type": "code",
   "execution_count": 32,
   "id": "f3984c12",
   "metadata": {
    "pycharm": {
     "name": "#%%\n"
    },
    "scrolled": true
   },
   "outputs": [
    {
     "data": {
      "text/plain": [
       "'4393,7986,244,4957'"
      ]
     },
     "execution_count": 32,
     "metadata": {},
     "output_type": "execute_result"
    }
   ],
   "source": [
    "print(TP, TN, FP, FN)"
   ]
  },
  {
   "cell_type": "code",
   "execution_count": 26,
   "id": "e0ba4c54",
   "metadata": {},
   "outputs": [
    {
     "data": {
      "text/plain": [
       "tensor([[0.]])"
      ]
     },
     "execution_count": 26,
     "metadata": {},
     "output_type": "execute_result"
    }
   ],
   "source": [
    "a = tensor([[59,167,135,227]])\n",
    "b = tensor([[198,92,254,190]])\n",
    "box_iou(a,b)"
   ]
  },
  {
   "cell_type": "code",
   "execution_count": null,
   "id": "9d0b6180",
   "metadata": {},
   "outputs": [],
   "source": []
  }
 ],
 "metadata": {
  "kernelspec": {
   "display_name": "Python 3 (ipykernel)",
   "language": "python",
   "name": "python3"
  },
  "language_info": {
   "codemirror_mode": {
    "name": "ipython",
    "version": 3
   },
   "file_extension": ".py",
   "mimetype": "text/x-python",
   "name": "python",
   "nbconvert_exporter": "python",
   "pygments_lexer": "ipython3",
   "version": "3.8.11"
  }
 },
 "nbformat": 4,
 "nbformat_minor": 5
}