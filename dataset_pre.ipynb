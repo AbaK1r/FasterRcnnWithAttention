{
 "cells": [
  {
   "cell_type": "code",
   "execution_count": 1,
   "id": "d2a6aa2f",
   "metadata": {},
   "outputs": [],
   "source": [
    "from PIL import Image\n",
    "import numpy as np\n",
    "import matplotlib.pyplot as plt\n",
    "from pydicom import dcmread\n",
    "from tqdm.notebook import tqdm\n",
    "import os\n",
    "from lxml.etree import Element, SubElement, tostring\n",
    "from xml.dom.minidom import parseString"
   ]
  },
  {
   "cell_type": "code",
   "execution_count": 2,
   "id": "02951b40",
   "metadata": {},
   "outputs": [],
   "source": [
    "def make_xml(xmin_tuple, ymin_tuple, xmax_tuple, ymax_tuple, image_name, dst):\n",
    "    node_root = Element('annotation')\n",
    "\n",
    "    node_filename = SubElement(node_root, 'filename')\n",
    "    node_filename.text = image_name\n",
    "\n",
    "    for i in range(len(xmin_tuple)):\n",
    "        node_object = SubElement(node_root, 'object')\n",
    "        node_object_name = SubElement(node_object, 'name')\n",
    "        node_object_name.text = str(\"thyroid_nodule\")\n",
    "        node_bndbox = SubElement(node_object, 'bndbox')\n",
    "        node_xmin = SubElement(node_bndbox, 'xmin')\n",
    "        node_xmin.text = str(xmin_tuple[i])\n",
    "        node_ymin = SubElement(node_bndbox, 'ymin')\n",
    "        node_ymin.text = str(ymin_tuple[i])\n",
    "        node_xmax = SubElement(node_bndbox, 'xmax')\n",
    "        node_xmax.text = str(xmax_tuple[i])\n",
    "        node_ymax = SubElement(node_bndbox, 'ymax')\n",
    "        node_ymax.text = str(ymax_tuple[i])\n",
    "\n",
    "    xml = tostring(node_root)\n",
    "    dom = parseString(xml)\n",
    "    with open(dst, 'wb') as f:\n",
    "        f.write(dom.toprettyxml(indent='\\t', encoding='utf-8'))"
   ]
  },
  {
   "cell_type": "code",
   "execution_count": 3,
   "id": "f578db6e",
   "metadata": {},
   "outputs": [],
   "source": [
    "image_root_path = \"C:/Users/AbaKir/Downloads/thyroid/data/\"\n",
    "image_path = []\n",
    "for root, dirs, files in os.walk(image_root_path):\n",
    "    for name in files:\n",
    "        image_path.append(os.path.join(root, name))\n",
    "        \n",
    "mask_root_path = \"C:/Users/AbaKir/Downloads/thyroid/groundtruth/\"\n",
    "mask_path = []\n",
    "for root, dirs, files in os.walk(mask_root_path):\n",
    "    for name in files:\n",
    "        mask_path.append(os.path.join(root, name))"
   ]
  },
  {
   "cell_type": "code",
   "execution_count": 4,
   "id": "53f0918a",
   "metadata": {},
   "outputs": [
    {
     "data": {
      "application/vnd.jupyter.widget-view+json": {
       "model_id": "95f632f197e447a9840f8259f258802e",
       "version_major": 2,
       "version_minor": 0
      },
      "text/plain": [
       "  0%|          | 0/16 [00:00<?, ?it/s]"
      ]
     },
     "metadata": {},
     "output_type": "display_data"
    }
   ],
   "source": [
    "sequence_number = 0\n",
    "pic_save_dir = \"./train/datasets/JPEGImages/\"\n",
    "xml_save_dir = \"./train/datasets/Annotations/\"\n",
    "for num in tqdm(range(len(mask_path))):\n",
    "    dic = {}\n",
    "    mask_raw = dcmread(mask_path[num]).pixel_array\n",
    "    image_raw = dcmread(image_path[num]).pixel_array\n",
    "    for i in range(image_raw.shape[0]):\n",
    "        mask_i = mask_raw[i]\n",
    "        last_row_max = 0\n",
    "        last_column_max = 0\n",
    "        num_change_j = 0\n",
    "        num_change_k = 0\n",
    "        xmin, xmax, ymin, ymax = (), (), (), ()\n",
    "        for j in range(mask_raw.shape[1]):\n",
    "            row_max = np.max(mask_i[j, :])\n",
    "            if row_max != last_row_max:\n",
    "                num_change_j += 1\n",
    "                if row_max == 1 and last_row_max == 0:\n",
    "                    ymin = (j,)\n",
    "                elif row_max == 0 and last_row_max == 1:\n",
    "                    ymax = (j,)\n",
    "            last_row_max = row_max\n",
    "        for k in range(mask_raw.shape[2]):\n",
    "            column_max = np.max(mask_i[:, k])\n",
    "            if column_max != last_column_max:\n",
    "                num_change_k += 1\n",
    "                if column_max == 1 and last_column_max == 0:\n",
    "                    xmin = (k,)\n",
    "                elif column_max == 0 and last_column_max == 1:\n",
    "                    xmax = (k,)\n",
    "            last_column_max = column_max\n",
    "        if num_change_j not in [0, 2] or num_change_k not in [0, 2]:\n",
    "            pass\n",
    "        else:\n",
    "            dic[str(sequence_number).zfill(6)] = (xmin, xmax, ymin, ymax, image_raw[i])\n",
    "        sequence_number += 1\n",
    "    for pic_name in dic.keys():\n",
    "        image = dic[pic_name][4]\n",
    "        image = image.reshape((image.shape[0], image.shape[1], 1))\n",
    "        image = np.concatenate((image, image, image), 2)\n",
    "        Image.fromarray(image).save(pic_save_dir + pic_name + \".jpg\")\n",
    "        make_xml(dic[pic_name][0], dic[pic_name][2], dic[pic_name][1], dic[pic_name][3], \n",
    "                 pic_name + \".jpg\", xml_save_dir + pic_name + \".xml\")"
   ]
  },
  {
   "cell_type": "code",
   "execution_count": null,
   "id": "36edf94e",
   "metadata": {},
   "outputs": [
    {
     "name": "stdout",
     "output_type": "stream",
     "text": [
      "Generate txt in ImageSets.\n",
      "train and val size 13428\n",
      "train size 12085\n",
      "Generate txt in ImageSets done.\n",
      "Generate train.txt and val.txt for train.\n"
     ]
    }
   ],
   "source": [
    "from train.voc_annotation import voc_annotation\n",
    "voc_annotation()"
   ]
  }
 ],
 "metadata": {
  "kernelspec": {
   "display_name": "Python 3 (ipykernel)",
   "language": "python",
   "name": "python3"
  },
  "language_info": {
   "codemirror_mode": {
    "name": "ipython",
    "version": 3
   },
   "file_extension": ".py",
   "mimetype": "text/x-python",
   "name": "python",
   "nbconvert_exporter": "python",
   "pygments_lexer": "ipython3",
   "version": "3.8.11"
  }
 },
 "nbformat": 4,
 "nbformat_minor": 5
}
